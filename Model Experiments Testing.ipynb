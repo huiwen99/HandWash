{
 "cells": [
  {
   "cell_type": "markdown",
   "metadata": {},
   "source": [
    "# Approach 1- ConvLSTM"
   ]
  },
  {
   "cell_type": "code",
   "execution_count": 2,
   "metadata": {},
   "outputs": [
    {
     "name": "stdout",
     "output_type": "stream",
     "text": [
      "validation \n",
      "Loss: 2.1230 - Accuracy: 29.9%\n",
      "\n",
      "Confusion Matrix:\n",
      "    0   1   2   3   4   5   6   7   8   9   10  11\n",
      "0    5   5   5   3   1   0   1   2   1   1   1   2\n",
      "1    0   1   0   0   0   0   0   0   1   0   1   0\n",
      "2    1   0   0   1   0   0   0   0   0   1   1   0\n",
      "3    1   0   0   1   0   0   0   0   0   0   0   0\n",
      "4    0   0   0   0   3   2   1   1   0   1   0   0\n",
      "5    0   0   0   0   1   1   0   1   0   0   0   0\n",
      "6    0   0   0   1   0   0   2   0   0   0   0   0\n",
      "7    0   0   0   0   0   1   0   2   2   0   1   1\n",
      "8    0   0   0   0   0   2   0   1   3   1   1   1\n",
      "9    0   0   0   0   2   0   2   0   0   2   0   0\n",
      "10   0   0   0   0   0   0   0   0   0   0   2   1\n",
      "11   0   0   1   0   0   0   0   0   0   0   0   1\n"
     ]
    }
   ],
   "source": [
    "%run evaluate.py --arch convlstm --model_dir ./save_weights/convlstm(hiddenlayer8).pt"
   ]
  },
  {
   "cell_type": "markdown",
   "metadata": {},
   "source": [
    "# Approach 2 - CNN-LSTM"
   ]
  },
  {
   "cell_type": "markdown",
   "metadata": {},
   "source": [
    "## CustomNet"
   ]
  },
  {
   "cell_type": "code",
   "execution_count": 3,
   "metadata": {},
   "outputs": [
    {
     "name": "stdout",
     "output_type": "stream",
     "text": [
      "validation \n",
      "Loss: 2.4853 - Accuracy: 10.4%\n",
      "\n",
      "Confusion Matrix:\n",
      "    0   1   2   3   4   5   6   7   8   9   10  11\n",
      "0    7   6   6   5   7   6   6   7   6   6   4   6\n",
      "1    0   0   0   0   0   0   0   0   0   0   0   0\n",
      "2    0   0   0   0   0   0   0   0   0   0   0   0\n",
      "3    0   0   0   0   0   0   0   0   0   0   0   0\n",
      "4    0   0   0   0   0   0   0   0   0   0   0   0\n",
      "5    0   0   0   0   0   0   0   0   0   0   0   0\n",
      "6    0   0   0   0   0   0   0   0   0   0   0   0\n",
      "7    0   0   0   0   0   0   0   0   0   0   0   0\n",
      "8    0   0   0   1   0   0   0   0   1   0   3   0\n",
      "9    0   0   0   0   0   0   0   0   0   0   0   0\n",
      "10   0   0   0   0   0   0   0   0   0   0   0   0\n",
      "11   0   0   0   0   0   0   0   0   0   0   0   0\n"
     ]
    }
   ],
   "source": [
    "%run evaluate.py --arch custom --model_dir ./save_weights/custom.pt"
   ]
  },
  {
   "cell_type": "markdown",
   "metadata": {},
   "source": [
    "## ResNet50"
   ]
  },
  {
   "cell_type": "code",
   "execution_count": 2,
   "metadata": {},
   "outputs": [
    {
     "name": "stdout",
     "output_type": "stream",
     "text": [
      "validation \n",
      "Loss: 1.8939 - Accuracy: 32.5%\n",
      "\n",
      "Confusion Matrix:\n",
      "    0   1   2   3   4   5   6   7   8   9   10  11\n",
      "0    6   2   2   1   0   0   0   0   0   0   1   0\n",
      "1    0   1   0   0   0   0   0   0   0   0   0   0\n",
      "2    0   1   2   0   0   0   0   0   0   0   0   0\n",
      "3    0   0   0   0   0   0   0   0   0   0   1   0\n",
      "4    0   0   0   0   1   2   0   1   1   1   0   0\n",
      "5    0   0   0   0   5   4   2   0   1   1   0   0\n",
      "6    0   0   0   0   0   0   1   0   0   0   1   1\n",
      "7    0   0   0   0   1   0   0   3   2   2   0   1\n",
      "8    0   1   1   3   0   0   1   2   1   2   0   0\n",
      "9    1   1   0   1   0   0   0   1   1   0   1   0\n",
      "10   0   0   1   1   0   0   0   0   1   0   3   1\n",
      "11   0   0   0   0   0   0   2   0   0   0   0   3\n"
     ]
    }
   ],
   "source": [
    "%run evaluate.py --arch resnet50 --model_dir ./save_weights/resnet50.pt"
   ]
  },
  {
   "cell_type": "markdown",
   "metadata": {},
   "source": [
    "## AlexNet"
   ]
  },
  {
   "cell_type": "code",
   "execution_count": 1,
   "metadata": {},
   "outputs": [
    {
     "name": "stdout",
     "output_type": "stream",
     "text": [
      "validation \n",
      "Loss: 1.9286 - Accuracy: 58.4%\n",
      "\n",
      "Confusion Matrix:\n",
      "    0   1   2   3   4   5   6   7   8   9   10  11\n",
      "0    6   0   0   0   0   0   0   0   0   0   0   0\n",
      "1    0   4   1   1   0   0   0   0   0   0   0   0\n",
      "2    0   1   3   0   0   0   0   0   0   0   0   0\n",
      "3    0   0   0   3   0   0   0   0   0   0   1   0\n",
      "4    0   0   0   0   5   0   0   0   0   0   0   0\n",
      "5    0   0   0   0   2   5   0   0   0   0   0   0\n",
      "6    0   0   0   0   0   0   3   2   1   1   0   1\n",
      "7    0   0   0   0   0   1   3   4   0   2   0   1\n",
      "8    1   0   1   1   0   0   0   1   6   0   3   0\n",
      "9    0   0   0   0   0   0   0   0   0   3   0   1\n",
      "10   0   1   0   1   0   0   0   0   0   0   2   2\n",
      "11   0   0   1   0   0   0   0   0   0   0   1   1\n"
     ]
    }
   ],
   "source": [
    "%run evaluate.py --arch alexnet --model_dir ./save_weights/alexnet_noaug.pt"
   ]
  },
  {
   "cell_type": "markdown",
   "metadata": {},
   "source": [
    "## Spatial Dimension"
   ]
  },
  {
   "cell_type": "code",
   "execution_count": 2,
   "metadata": {},
   "outputs": [
    {
     "name": "stdout",
     "output_type": "stream",
     "text": [
      "validation \n",
      "Loss: 1.2844 - Accuracy: 54.5%\n",
      "\n",
      "Confusion Matrix:\n",
      "    0   1   2   3   4   5   6   7   8   9   10  11\n",
      "0    7   2   0   1   0   0   0   0   0   0   0   0\n",
      "1    0   3   2   0   0   0   0   0   0   0   0   0\n",
      "2    0   1   2   1   0   0   0   0   0   0   0   0\n",
      "3    0   0   0   4   0   0   0   0   0   0   1   0\n",
      "4    0   0   0   0   4   2   1   0   0   0   0   0\n",
      "5    0   0   0   0   3   4   1   0   0   1   0   0\n",
      "6    0   0   1   0   0   0   0   1   0   0   0   0\n",
      "7    0   0   0   0   0   0   2   3   1   1   0   1\n",
      "8    0   0   1   0   0   0   2   0   5   0   0   0\n",
      "9    0   0   0   0   0   0   0   2   1   4   0   0\n",
      "10   0   0   0   0   0   0   0   0   0   0   5   4\n",
      "11   0   0   0   0   0   0   0   1   0   0   1   1\n"
     ]
    }
   ],
   "source": [
    "# Spatial dimension: 64 by 64\n",
    "%run evaluate.py --arch alexnet --model_dir ./save_weights/alexnet_aug(spatial_64).pt"
   ]
  },
  {
   "cell_type": "code",
   "execution_count": 1,
   "metadata": {},
   "outputs": [
    {
     "name": "stdout",
     "output_type": "stream",
     "text": [
      "validation \n",
      "Loss: 1.2049 - Accuracy: 57.1%\n",
      "\n",
      "Confusion Matrix:\n",
      "    0   1   2   3   4   5   6   7   8   9   10  11\n",
      "0    7   2   0   1   0   0   0   0   0   0   0   0\n",
      "1    0   4   2   0   0   0   0   0   0   0   0   0\n",
      "2    0   0   2   1   0   0   0   0   0   0   0   0\n",
      "3    0   0   1   3   0   0   0   0   0   0   1   0\n",
      "4    0   0   0   0   5   4   2   0   0   0   0   0\n",
      "5    0   0   0   0   2   2   0   0   0   0   0   0\n",
      "6    0   0   1   0   0   0   4   3   1   1   0   0\n",
      "7    0   0   0   0   0   0   0   2   0   1   0   1\n",
      "8    0   0   0   0   0   0   0   1   3   0   0   0\n",
      "9    0   0   0   0   0   0   0   1   3   4   0   1\n",
      "10   0   0   0   1   0   0   0   0   0   0   5   1\n",
      "11   0   0   0   0   0   0   0   0   0   0   1   3\n"
     ]
    }
   ],
   "source": [
    "# Spatial dimension: 84 by 84\n",
    "%run evaluate.py --arch alexnet --model_dir ./save_weights/alexnet_aug(spatial_84).pt"
   ]
  },
  {
   "cell_type": "code",
   "execution_count": 1,
   "metadata": {},
   "outputs": [
    {
     "name": "stdout",
     "output_type": "stream",
     "text": [
      "validation \n",
      "Loss: 0.9634 - Accuracy: 83.1%\n",
      "\n",
      "Confusion Matrix:\n",
      "    0   1   2   3   4   5   6   7   8   9   10  11\n",
      "0    7   0   0   0   0   0   0   0   0   0   0   0\n",
      "1    0   4   2   0   0   0   1   0   0   0   0   0\n",
      "2    0   2   3   0   0   0   0   0   0   0   0   0\n",
      "3    0   0   0   4   0   0   0   0   0   0   0   0\n",
      "4    0   0   0   0   7   1   1   0   0   0   0   0\n",
      "5    0   0   0   0   0   5   0   0   0   0   0   0\n",
      "6    0   0   0   0   0   0   4   0   0   1   0   0\n",
      "7    0   0   0   0   0   0   0   6   0   0   0   0\n",
      "8    0   0   0   1   0   0   0   0   7   0   0   0\n",
      "9    0   0   1   0   0   0   0   1   0   5   1   0\n",
      "10   0   0   0   1   0   0   0   0   0   0   6   0\n",
      "11   0   0   0   0   0   0   0   0   0   0   0   6\n"
     ]
    }
   ],
   "source": [
    "# Spatial dimension: 128 by 128\n",
    "%run evaluate.py --arch alexnet --model_dir ./save_weights/alexnet_aug(spatial_128).pt"
   ]
  },
  {
   "cell_type": "markdown",
   "metadata": {},
   "source": [
    "# Data Augmentation"
   ]
  },
  {
   "cell_type": "markdown",
   "metadata": {},
   "source": [
    "### Contrast (probability: 0.5)"
   ]
  },
  {
   "cell_type": "code",
   "execution_count": 1,
   "metadata": {},
   "outputs": [
    {
     "name": "stdout",
     "output_type": "stream",
     "text": [
      "validation \n",
      "Loss: 1.0339 - Accuracy: 81.8%\n",
      "\n",
      "Confusion Matrix:\n",
      "    0   1   2   3   4   5   6   7   8   9   10  11\n",
      "0    7   0   0   0   0   0   0   0   0   0   0   0\n",
      "1    0   4   1   0   0   0   0   0   0   0   0   0\n",
      "2    0   1   4   0   0   0   0   0   0   0   0   0\n",
      "3    0   1   0   6   0   0   0   0   0   0   0   0\n",
      "4    0   0   0   0   6   1   0   0   0   0   0   0\n",
      "5    0   0   0   0   1   5   0   0   0   0   0   0\n",
      "6    0   0   0   0   0   0   5   1   0   0   0   0\n",
      "7    0   0   0   0   0   0   1   5   1   1   0   0\n",
      "8    0   0   0   0   0   0   0   0   6   0   1   0\n",
      "9    0   0   1   0   0   0   0   1   0   5   0   2\n",
      "10   0   0   0   0   0   0   0   0   0   0   6   0\n",
      "11   0   0   0   0   0   0   0   0   0   0   0   4\n"
     ]
    }
   ],
   "source": [
    "%run evaluate.py --arch alexnet --model_dir ./save_weights/alexnet_aug(contrastprob05).pt"
   ]
  },
  {
   "cell_type": "markdown",
   "metadata": {},
   "source": [
    "### Translation (probability: 0.5)"
   ]
  },
  {
   "cell_type": "code",
   "execution_count": 2,
   "metadata": {},
   "outputs": [
    {
     "name": "stdout",
     "output_type": "stream",
     "text": [
      "validation \n",
      "Loss: 1.1752 - Accuracy: 80.5%\n",
      "\n",
      "Confusion Matrix:\n",
      "    0   1   2   3   4   5   6   7   8   9   10  11\n",
      "0    7   0   0   0   0   0   0   0   0   0   0   0\n",
      "1    0   3   1   0   0   0   0   0   0   0   0   0\n",
      "2    0   3   3   0   0   0   0   0   0   0   0   0\n",
      "3    0   0   1   4   0   0   0   0   0   0   0   0\n",
      "4    0   0   0   0   7   1   0   0   0   0   0   0\n",
      "5    0   0   0   0   0   5   0   0   0   0   0   0\n",
      "6    0   0   0   0   0   0   6   1   0   1   0   0\n",
      "7    0   0   0   0   0   0   0   5   1   0   0   0\n",
      "8    0   0   0   1   0   0   0   0   6   0   0   0\n",
      "9    0   0   1   0   0   0   0   1   0   5   1   1\n",
      "10   0   0   0   1   0   0   0   0   0   0   6   0\n",
      "11   0   0   0   0   0   0   0   0   0   0   0   5\n"
     ]
    }
   ],
   "source": [
    "%run evaluate.py --arch alexnet --model_dir ./save_weights/alexnet_aug(translation05).pt"
   ]
  },
  {
   "cell_type": "markdown",
   "metadata": {},
   "source": [
    "# Test Accuracy"
   ]
  },
  {
   "cell_type": "code",
   "execution_count": 1,
   "metadata": {},
   "outputs": [
    {
     "name": "stdout",
     "output_type": "stream",
     "text": [
      "test \n",
      "Loss: 0.8004 - Accuracy: 88.5%\n",
      "\n",
      "Confusion Matrix:\n",
      "    0   1   2   3   4   5   6   7   8   9   10  11\n",
      "0    6   0   0   0   0   0   0   0   0   0   0   0\n",
      "1    0   5   0   0   0   0   0   0   0   0   0   0\n",
      "2    0   0   5   0   0   0   0   0   0   0   0   0\n",
      "3    0   0   0   4   0   0   0   0   0   0   0   0\n",
      "4    0   0   0   0   5   0   0   0   0   0   0   0\n",
      "5    0   0   0   0   0   4   0   0   0   0   0   1\n",
      "6    0   0   0   0   0   0   5   0   0   0   0   0\n",
      "7    0   0   0   0   0   1   0   5   0   1   0   0\n",
      "8    0   0   0   0   0   0   0   0   4   0   0   0\n",
      "9    0   0   0   0   0   0   0   0   1   3   0   0\n",
      "10   0   0   0   0   0   0   0   0   0   0   4   0\n",
      "11   0   0   0   1   0   0   0   0   0   1   1   4\n"
     ]
    }
   ],
   "source": [
    "%run evaluate.py --arch alexnet --dataset test --model_dir ./save_weights/alexnet_aug(spatial_128).pt"
   ]
  }
 ],
 "metadata": {
  "kernelspec": {
   "display_name": "Python 3",
   "language": "python",
   "name": "python3"
  },
  "language_info": {
   "codemirror_mode": {
    "name": "ipython",
    "version": 3
   },
   "file_extension": ".py",
   "mimetype": "text/x-python",
   "name": "python",
   "nbconvert_exporter": "python",
   "pygments_lexer": "ipython3",
   "version": "3.6.10"
  }
 },
 "nbformat": 4,
 "nbformat_minor": 4
}
