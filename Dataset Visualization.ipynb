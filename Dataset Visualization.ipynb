{
 "cells": [
  {
   "cell_type": "code",
   "execution_count": 1,
   "metadata": {},
   "outputs": [],
   "source": [
    "import os\n",
    "import matplotlib\n",
    "import matplotlib.pyplot as plt\n",
    "import numpy as np\n",
    "\n",
    "root_path = \"./Dataset/\""
   ]
  },
  {
   "cell_type": "code",
   "execution_count": 2,
   "metadata": {},
   "outputs": [],
   "source": [
    "def countDir(path) -> int:\n",
    "    \"\"\"\n",
    "    Return number of files in a path\n",
    "    \"\"\"\n",
    "    return len([name for name in os.listdir(path)])\n",
    "\n",
    "def countCustom(path) -> int : \n",
    "    \"\"\"\n",
    "    Return number of files that does not starts with \"HandWash\"\n",
    "    \"\"\"\n",
    "    allFiles = [name for name in os.listdir(path)]\n",
    "    counter = 0\n",
    "    for eachFile in allFiles:\n",
    "        if (eachFile[0:8] != 'HandWash'):\n",
    "            counter += 1\n",
    "    return counter\n",
    "\n",
    "def autolabel(rects):\n",
    "    \"\"\"Attach a text label above each bar in *rects*, displaying its height.\"\"\"\n",
    "    for rect in rects:\n",
    "        height = rect.get_height()\n",
    "        ax.annotate('{}'.format(height),\n",
    "                    xy=(rect.get_x() + rect.get_width() / 2, height),\n",
    "                    xytext=(0, 3),  # 3 points vertical offset\n",
    "                    textcoords=\"offset points\",\n",
    "                    ha='center', va='bottom')"
   ]
  },
  {
   "cell_type": "code",
   "execution_count": 3,
   "metadata": {},
   "outputs": [
    {
     "data": {
      "image/png": "[encoded data removed]",
      "text/plain": [
       "<Figure size 1332x756 with 1 Axes>"
      ]
     },
     "metadata": {
      "needs_background": "light"
     },
     "output_type": "display_data"
    }
   ],
   "source": [
    "labels = ['Step1','Step2L','Step2R','Step3','Step4L','Step4R','Step5L','Step5R','Step6L','Step6R','Step7L','Step7R']\n",
    "\n",
    "train1 = root_path + \"train/Step_1\"\n",
    "train2L = root_path + \"train/Step_2_Left\"\n",
    "train2R = root_path + \"train/Step_2_Right\"\n",
    "train3 = root_path + \"train/Step_3\"\n",
    "train4L = root_path + \"train/Step_4_Left\"\n",
    "train4R = root_path + \"train/Step_4_Right\"\n",
    "train5L = root_path + \"train/Step_5_Left\"\n",
    "train5R = root_path + \"train/Step_5_Right\"\n",
    "train6L = root_path + \"train/Step_6_Left\"\n",
    "train6R = root_path + \"train/Step_6_Right\"\n",
    "train7L = root_path + \"train/Step_6_Left\"\n",
    "train7R = root_path + \"train/Step_7_Right\"\n",
    "\n",
    "val1 = root_path + \"val/Step_1\"\n",
    "val2L = root_path + \"val/Step_2_Left\"\n",
    "val2R = root_path + \"val/Step_2_Right\"\n",
    "val3 = root_path + \"val/Step_3\"\n",
    "val4L = root_path + \"val/Step_4_Left\"\n",
    "val4R = root_path + \"val/Step_4_Right\"\n",
    "val5L = root_path + \"val/Step_5_Left\"\n",
    "val5R = root_path + \"val/Step_5_Right\"\n",
    "val6L = root_path + \"val/Step_6_Left\"\n",
    "val6R = root_path + \"val/Step_6_Right\"\n",
    "val7L = root_path + \"val/Step_6_Left\"\n",
    "val7R = root_path + \"val/Step_7_Right\"\n",
    "\n",
    "test1 = root_path + \"test/Step_1\"\n",
    "test2L = root_path + \"test/Step_2_Left\"\n",
    "test2R = root_path + \"test/Step_2_Right\"\n",
    "test3 = root_path + \"test/Step_3\"\n",
    "test4L = root_path + \"test/Step_4_Left\"\n",
    "test4R = root_path + \"test/Step_4_Right\"\n",
    "test5L = root_path + \"test/Step_5_Left\"\n",
    "test5R = root_path + \"test/Step_5_Right\"\n",
    "test6L = root_path + \"test/Step_6_Left\"\n",
    "test6R = root_path + \"test/Step_6_Right\"\n",
    "test7L = root_path + \"test/Step_6_Left\"\n",
    "test7R = root_path + \"test/Step_7_Right\"\n",
    "\n",
    "train = [countDir(train1),countDir(train2L),countDir(train2R),countDir(train3),countDir(train4L),countDir(train4R),countDir(train5L),countDir(train5R),countDir(train6L),countDir(train6R),countDir(train7L),countDir(train7R)]\n",
    "val = [countDir(val1),countDir(val2L),countDir(val2R),countDir(val3),countDir(val4L),countDir(val4R),countDir(val5L),countDir(val5R),countDir(val6L),countDir(val6R),countDir(val7L),countDir(val7R)]\n",
    "test = [countDir(test1),countDir(test2L),countDir(test2R),countDir(test3),countDir(test4L),countDir(test4R),countDir(test5L),countDir(test5R),countDir(test6L),countDir(test6R),countDir(test7L),countDir(test7R)]\n",
    "\n",
    "trainC = [countCustom(train1),countCustom(train2L),countCustom(train2R),countCustom(train3),countCustom(train4L),countCustom(train4R),countCustom(train5L),countCustom(train5R),countCustom(train6L),countCustom(train6R),countCustom(train7L),countCustom(train7R)]\n",
    "valC = [countCustom(val1),countCustom(val2L),countCustom(val2R),countCustom(val3),countCustom(val4L),countCustom(val4R),countCustom(val5L),countCustom(val5R),countCustom(val6L),countCustom(val6R),countCustom(val7L),countCustom(val7R)]\n",
    "testC = [countCustom(test1),countCustom(test2L),countCustom(test2R),countCustom(test3),countCustom(test4L),countCustom(test4R),countCustom(test5L),countCustom(test5R),countCustom(test6L),countCustom(test6R),countCustom(test7L),countCustom(test7R)]\n",
    "\n",
    "x = np.arange(len(labels))  # the label locations\n",
    "width = 0.2  # the width of the bars\n",
    "\n",
    "fig, ax = plt.subplots()\n",
    "rects1 = ax.bar(x - width, train, width, label='Train')\n",
    "rects2 = ax.bar(x, val, width, label='Val')\n",
    "rects3 = ax.bar(x + width, test, width, label='Test')\n",
    "\n",
    "rects1c = ax.bar(x - width, trainC, width, label='Custom Train')\n",
    "rects2c = ax.bar(x, valC, width, label='Custom Val',color='black')\n",
    "rects3c = ax.bar(x + width, testC, width, label='Custom Test',color='#EB70AA')\n",
    "\n",
    "autolabel(rects1)\n",
    "autolabel(rects2)\n",
    "autolabel(rects3)\n",
    "autolabel(rects1c)\n",
    "autolabel(rects2c)\n",
    "autolabel(rects3c)\n",
    "\n",
    "ax.set_xticks(x)\n",
    "ax.set_xticklabels(labels)\n",
    "ax.legend()\n",
    "fig.set_size_inches(18.5, 10.5, forward=True)\n",
    "\n",
    "plt.show()\n"
   ]
  },
  {
   "cell_type": "code",
   "execution_count": null,
   "metadata": {},
   "outputs": [],
   "source": []
  },
  {
   "cell_type": "code",
   "execution_count": null,
   "metadata": {},
   "outputs": [],
   "source": []
  }
 ],
 "metadata": {
  "kernelspec": {
   "display_name": "Python 3",
   "language": "python",
   "name": "python3"
  },
  "language_info": {
   "codemirror_mode": {
    "name": "ipython",
    "version": 3
   },
   "file_extension": ".py",
   "mimetype": "text/x-python",
   "name": "python",
   "nbconvert_exporter": "python",
   "pygments_lexer": "ipython3",
   "version": "3.6.10"
  }
 },
 "nbformat": 4,
 "nbformat_minor": 4
}
