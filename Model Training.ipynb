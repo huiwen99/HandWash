{
 "cells": [
  {
   "cell_type": "code",
   "execution_count": null,
   "metadata": {},
   "outputs": [
    {
     "name": "stdout",
     "output_type": "stream",
     "text": [
      "Training...\n",
      "Train Epoch: 1 @ 19:00:10.894211 \n",
      "Train Loss: 2.4928 - Train Accuracy: 8.3%\n",
      "Val Loss: 2.4975 - Val Accuracy: 8.2%\n"
     ]
    }
   ],
   "source": [
    "%run train.py --arch alexnet --epochs 2 --edge True"
   ]
  }
 ],
 "metadata": {
  "kernelspec": {
   "display_name": "Python 3",
   "language": "python",
   "name": "python3"
  },
  "language_info": {
   "codemirror_mode": {
    "name": "ipython",
    "version": 3
   },
   "file_extension": ".py",
   "mimetype": "text/x-python",
   "name": "python",
   "nbconvert_exporter": "python",
   "pygments_lexer": "ipython3",
   "version": "3.6.10"
  }
 },
 "nbformat": 4,
 "nbformat_minor": 4
}
